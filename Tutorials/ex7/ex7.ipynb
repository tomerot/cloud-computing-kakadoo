{
  "nbformat": 4,
  "nbformat_minor": 0,
  "metadata": {
    "colab": {
      "provenance": []
    },
    "kernelspec": {
      "name": "python3",
      "display_name": "Python 3"
    },
    "language_info": {
      "name": "python"
    }
  },
  "cells": [
    {
      "cell_type": "code",
      "execution_count": 1,
      "metadata": {
        "id": "2_RrvLD2e8i3"
      },
      "outputs": [],
      "source": [
        "def __calculate_ranks(self, docs_ranks, docs_urls, docs_matches, normalized_query):\n",
        "    query_length = len(normalized_query)\n",
        "    boosts = {}\n",
        "\n",
        "    # Apply URL-based boost\n",
        "    for doc_id in docs_urls:\n",
        "        url = docs_urls[doc_id]\n",
        "        url_matches = self.__url_contains_terms(url, normalized_query)\n",
        "        boosts[doc_id] = 2 * url_matches  # Apply boost for rank\n",
        "\n",
        "    # Calculate final ranks\n",
        "    for doc_id in docs_urls:\n",
        "        if boosts[doc_id]:\n",
        "            match_multiplier = (boosts[doc_id] + docs_matches[doc_id]) / query_length\n",
        "        else:\n",
        "            match_multiplier = docs_matches[doc_id] / query_length\n",
        "        docs_ranks[doc_id] *= match_multiplier  # Adjust rank based on term matches\n"
      ]
    }
  ]
}